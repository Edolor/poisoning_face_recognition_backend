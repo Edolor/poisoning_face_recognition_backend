{
  "nbformat": 4,
  "nbformat_minor": 0,
  "metadata": {
    "colab": {
      "provenance": []
    },
    "kernelspec": {
      "name": "python3",
      "display_name": "Python 3"
    },
    "language_info": {
      "name": "python"
    }
  },
  "cells": [
    {
      "cell_type": "code",
      "execution_count": null,
      "metadata": {
        "id": "kN7-psjK_ZJh"
      },
      "outputs": [],
      "source": [
        "# Step 1: Setup Dataset & Load in Personal Images"
      ]
    },
    {
      "cell_type": "code",
      "source": [
        "# Step 2: Setup pre-trained model"
      ],
      "metadata": {
        "id": "jQUCvN2R_ikl"
      },
      "execution_count": null,
      "outputs": []
    },
    {
      "cell_type": "code",
      "source": [
        "# Step 3: Fine-tune pre-trained model"
      ],
      "metadata": {
        "id": "fz38c6Bo_m8X"
      },
      "execution_count": null,
      "outputs": []
    },
    {
      "cell_type": "code",
      "source": [
        "# Step 4: Measure performance at task (Accuracy, Precision, Recall, F1-Score)"
      ],
      "metadata": {
        "id": "_wN_BGia_pWf"
      },
      "execution_count": null,
      "outputs": []
    },
    {
      "cell_type": "code",
      "source": [
        "# Step 5: Setup Poisoning experiment"
      ],
      "metadata": {
        "id": "XkhMgBWG_waP"
      },
      "execution_count": null,
      "outputs": []
    },
    {
      "cell_type": "code",
      "source": [
        "# Step 6: Re-train model with poisoned data"
      ],
      "metadata": {
        "id": "-6sh6DOq_y7W"
      },
      "execution_count": null,
      "outputs": []
    },
    {
      "cell_type": "code",
      "source": [
        "# Step 7: Measure performance at task (Accuracy, Precision, Recall, F1-Score)"
      ],
      "metadata": {
        "id": "aDuG7UMW_71n"
      },
      "execution_count": null,
      "outputs": []
    },
    {
      "cell_type": "code",
      "source": [
        "# Step 8: Compare performance of CLEAN and POISONED statistics"
      ],
      "metadata": {
        "id": "X4ubAbM_AKle"
      },
      "execution_count": null,
      "outputs": []
    },
    {
      "cell_type": "code",
      "source": [
        "# Step 9: Save the binary of BOTH models using (PICKE || anything else)"
      ],
      "metadata": {
        "id": "3bwIPSW7AD-2"
      },
      "execution_count": null,
      "outputs": []
    }
  ]
}